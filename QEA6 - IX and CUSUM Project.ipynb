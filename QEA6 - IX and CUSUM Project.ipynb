{
 "cells": [
  {
   "cell_type": "code",
   "execution_count": 1,
   "metadata": {},
   "outputs": [],
   "source": [
    "import numpy as np\n",
    "import matplotlib.pyplot as plt\n",
    "import pandas as pd"
   ]
  },
  {
   "cell_type": "markdown",
   "metadata": {},
   "source": [
    "Function for computing the average range of a dataset"
   ]
  },
  {
   "cell_type": "code",
   "execution_count": 2,
   "metadata": {},
   "outputs": [],
   "source": [
    "def MRbar(data, L = 3):\n",
    "    mrbar = 0\n",
    "    # iterate for x_i, x_i+1 for i in data\n",
    "    for (first, second) in list(zip(data[:-1],data[1:])):\n",
    "        mrbar += abs(second-first)\n",
    "    mrbar = mrbar/(len(data)-1)\n",
    "    return mrbar"
   ]
  },
  {
   "cell_type": "markdown",
   "metadata": {},
   "source": [
    "Setup up a function for Tabular CUSUM"
   ]
  },
  {
   "cell_type": "code",
   "execution_count": 3,
   "metadata": {},
   "outputs": [],
   "source": [
    "def Cplus(xi, lastCplus, mean = 10, std = 1, k = .5):\n",
    "    return max(0, xi - (mean + k*std) + lastCplus)\n",
    "def Cneg(xi, lastCneg, mean = 10, std = 1, k = .5):\n",
    "    return max(0, (mean - k*std) - xi + lastCneg)"
   ]
  },
  {
   "cell_type": "markdown",
   "metadata": {},
   "source": [
    "Now, let's setup functions to run ARL simulations"
   ]
  },
  {
   "cell_type": "code",
   "execution_count": 4,
   "metadata": {},
   "outputs": [],
   "source": [
    "def IXARLSim(mean0 = 10, L = 3, reps = 1000, mean1 = 10, std = 1):\n",
    "    mrbar = MRbar(np.random.RandomState(1).normal(mean0, std, 10000),L) #need an estimate for MRbar\n",
    "    runlengths = []\n",
    "    for i in list(range(reps)):\n",
    "        length = 0\n",
    "        stop = False\n",
    "        while not stop:\n",
    "            value = np.random.RandomState(1000*i+length).normal(mean1, std)\n",
    "            if value >= mean0 + (L*mrbar)/1.128 or value <= mean0 - (L*mrbar)/1.128:\n",
    "                length += 1\n",
    "                runlengths.append(length)\n",
    "                stop = True\n",
    "            else:\n",
    "                length += 1\n",
    "    return np.array(runlengths)\n",
    "\n",
    "\n",
    "def CUSUMARLSim(reps = 1000, mean0 = 10, std = 1, mean1 = 10, k = .5, h = 5):\n",
    "    runlengths = []\n",
    "    for i in list(range(reps)):\n",
    "        length = 0\n",
    "        stop = False\n",
    "        lastCplus = 0\n",
    "        lastCneg = 0\n",
    "        while not stop:\n",
    "            value = np.random.RandomState(1000*i+length).normal(mean1, std)\n",
    "            lastCplus = Cplus(value, lastCplus, mean0, std, k)\n",
    "            lastCneg = Cneg(value, lastCneg, mean0, std, k)\n",
    "            if lastCplus >= h*std or abs(lastCneg) >= h*std:\n",
    "                length += 1\n",
    "                runlengths.append(length)\n",
    "                stop = True\n",
    "            else:\n",
    "                length += 1\n",
    "    return np.array(runlengths)\n",
    "\n",
    "def IXMRARLSim(L = 3, mean0 = 10, reps = 1000, mean1 = 10, std = 1, D = 4):\n",
    "    mrbar = MRbar(np.random.RandomState(1).normal(mean0, std, 10000))\n",
    "    runlengths = []\n",
    "    for i in list(range(reps)):\n",
    "        length = 0\n",
    "        stop = False\n",
    "        prevalue = mean0\n",
    "        while not stop:\n",
    "            value = np.random.RandomState(10000*i+length).normal(mean1, std)\n",
    "            if value >= mean0 + (L*mrbar)/1.128 or value <= mean0 - (L*mrbar)/1.128:\n",
    "                length += 1\n",
    "                runlengths.append(length)\n",
    "                stop = True\n",
    "            if abs(value-prevalue) >= D*mrbar:\n",
    "                length += 1\n",
    "                runlengths.append(length)\n",
    "                stop = True\n",
    "            else:\n",
    "                prevalue = value\n",
    "                length += 1\n",
    "    return np.array(runlengths)"
   ]
  },
  {
   "cell_type": "markdown",
   "metadata": {},
   "source": [
    "## 1. Validate your code for IX and CUSUM chart for mean shifts. Pick a few ARL values from the OneNote page Comparison of Control Charts and make sure your numbers match the those in that page. Report your computational results."
   ]
  },
  {
   "cell_type": "markdown",
   "metadata": {},
   "source": [
    "|       Shift   Magnitude  |          IX   (L=3.5)  |          CUSUM    (h=5, k=1/2)  |          Combined   Chart        |\n",
    "|--------------------------|------------------------|---------------------------------|----------------------------------|\n",
    "|       0                  |          2149          |          465                    |          391                     |\n",
    "|       0.25               |          281.2         |          139                    |          130.9                   |\n",
    "|       0.5                |          155.2         |          38                     |          37.2                    |\n",
    "|       1                  |          43.9          |          10.4                   |          10.2                    |\n",
    "|       2                  |          6.2           |          4.0                    |          3.8                     |\n",
    "|       3                  |          2.0           |          2.6                    |          2.1                     |\n",
    "|       4                  |          1.2           |          2.0                    |          1.34                    |"
   ]
  },
  {
   "cell_type": "markdown",
   "metadata": {},
   "source": [
    "I'll compare shift magnitudes of 0 and 3 for both IX and CUSUM\n",
    "\n",
    "Starting with IX:"
   ]
  },
  {
   "cell_type": "code",
   "execution_count": 5,
   "metadata": {},
   "outputs": [
    {
     "name": "stdout",
     "output_type": "stream",
     "text": [
      "Table's IX ARL for a mean shift of 0 : 2149\n",
      "My ARL:  2362.656\n"
     ]
    }
   ],
   "source": [
    "runlengths = IXARLSim(10,3.5, reps = 1000, mean1 = 10, std = 1)\n",
    "print(\"Table's IX ARL for a mean shift of 0 : 2149\")\n",
    "print(\"My ARL: \",runlengths.mean())"
   ]
  },
  {
   "cell_type": "code",
   "execution_count": 6,
   "metadata": {},
   "outputs": [
    {
     "name": "stdout",
     "output_type": "stream",
     "text": [
      "Table's IX ARL for a mean shift of 3 : 2\n",
      "My ARL:  3.435\n"
     ]
    }
   ],
   "source": [
    "runlengths = IXARLSim(10, 3.5, reps = 1000, mean1 = 13, std = 1)\n",
    "print(\"Table's IX ARL for a mean shift of 3 : 2\")\n",
    "print(\"My ARL: \",runlengths.mean())"
   ]
  },
  {
   "cell_type": "code",
   "execution_count": 7,
   "metadata": {},
   "outputs": [
    {
     "name": "stdout",
     "output_type": "stream",
     "text": [
      "Table's CUSUM ARL for a mean shift of 0 : 465\n",
      "My ARL:  492.667\n"
     ]
    }
   ],
   "source": [
    "runlengths = CUSUMARLSim(reps = 1000, mean0 = 10, std = 1, mean1 = 10, k = .5, h = 5)\n",
    "print(\"Table's CUSUM ARL for a mean shift of 0 : 465\")\n",
    "print(\"My ARL: \",runlengths.mean())"
   ]
  },
  {
   "cell_type": "code",
   "execution_count": 8,
   "metadata": {},
   "outputs": [
    {
     "name": "stdout",
     "output_type": "stream",
     "text": [
      "Table's CUSUM ARL for a mean shift of 3 : 2\n",
      "My ARL:  2.586\n"
     ]
    }
   ],
   "source": [
    "runlengths = CUSUMARLSim(reps = 1000, mean0 = 10, std = 1, mean1 = 13, k = .5, h = 5)\n",
    "print(\"Table's CUSUM ARL for a mean shift of 3 : 2\")\n",
    "print(\"My ARL: \",runlengths.mean())"
   ]
  },
  {
   "cell_type": "markdown",
   "metadata": {},
   "source": [
    "My computational values are all pretty close to the ones in the table,"
   ]
  },
  {
   "cell_type": "markdown",
   "metadata": {},
   "source": [
    "## 2. Run IX and MR simultaneously. Generate ARL0 and ARL1 (0.5, 1, 2, 3 sigma shifts)."
   ]
  },
  {
   "cell_type": "markdown",
   "metadata": {},
   "source": [
    "This will run two control charts at once. The same IX from before will be run:"
   ]
  },
  {
   "cell_type": "markdown",
   "metadata": {},
   "source": [
    "<img src=\"Capture1.png\">\n",
    "\n",
    "with $d_2$ = 1.128"
   ]
  },
  {
   "cell_type": "markdown",
   "metadata": {},
   "source": [
    "An MR chart will also be run:\n",
    "\n",
    "<img src=\"Capture2.png\">\n",
    "\n",
    "with D = 4"
   ]
  },
  {
   "cell_type": "code",
   "execution_count": 9,
   "metadata": {},
   "outputs": [],
   "source": [
    "meanshifts = [0,.5,1,2,3]\n",
    "runlengthsIXMR = {}\n",
    "\n",
    "for mshift in meanshifts:\n",
    "    runlengthsIXMR[mshift] = IXMRARLSim(L = 3, mean0 = 10, reps = 1000, mean1 = 10+mshift, std = 1, D = 4)\n",
    "    runlengthsIXMR[mshift] = np.array(runlengthsIXMR[mshift]).mean()"
   ]
  },
  {
   "cell_type": "code",
   "execution_count": 10,
   "metadata": {},
   "outputs": [],
   "source": [
    "runlengthsIXMR = pd.DataFrame(runlengthsIXMR.values(), runlengthsIXMR.keys())"
   ]
  },
  {
   "cell_type": "code",
   "execution_count": 11,
   "metadata": {},
   "outputs": [
    {
     "data": {
      "text/html": [
       "<div>\n",
       "<style scoped>\n",
       "    .dataframe tbody tr th:only-of-type {\n",
       "        vertical-align: middle;\n",
       "    }\n",
       "\n",
       "    .dataframe tbody tr th {\n",
       "        vertical-align: top;\n",
       "    }\n",
       "\n",
       "    .dataframe thead th {\n",
       "        text-align: right;\n",
       "    }\n",
       "</style>\n",
       "<table border=\"1\" class=\"dataframe\">\n",
       "  <thead>\n",
       "    <tr style=\"text-align: right;\">\n",
       "      <th></th>\n",
       "      <th>Mean Shift</th>\n",
       "      <th>ARL</th>\n",
       "    </tr>\n",
       "  </thead>\n",
       "  <tbody>\n",
       "    <tr>\n",
       "      <th>0</th>\n",
       "      <td>0.0</td>\n",
       "      <td>305.381084</td>\n",
       "    </tr>\n",
       "    <tr>\n",
       "      <th>1</th>\n",
       "      <td>0.5</td>\n",
       "      <td>141.299242</td>\n",
       "    </tr>\n",
       "    <tr>\n",
       "      <th>2</th>\n",
       "      <td>1.0</td>\n",
       "      <td>45.278101</td>\n",
       "    </tr>\n",
       "    <tr>\n",
       "      <th>3</th>\n",
       "      <td>2.0</td>\n",
       "      <td>6.239882</td>\n",
       "    </tr>\n",
       "    <tr>\n",
       "      <th>4</th>\n",
       "      <td>3.0</td>\n",
       "      <td>1.994324</td>\n",
       "    </tr>\n",
       "  </tbody>\n",
       "</table>\n",
       "</div>"
      ],
      "text/plain": [
       "   Mean Shift         ARL\n",
       "0         0.0  305.381084\n",
       "1         0.5  141.299242\n",
       "2         1.0   45.278101\n",
       "3         2.0    6.239882\n",
       "4         3.0    1.994324"
      ]
     },
     "execution_count": 11,
     "metadata": {},
     "output_type": "execute_result"
    }
   ],
   "source": [
    "runlengthsIXMR=runlengthsIXMR.reset_index().rename(columns = {'index': 'Mean Shift', 0: 'ARL'})\n",
    "runlengthsIXMR"
   ]
  },
  {
   "cell_type": "markdown",
   "metadata": {},
   "source": [
    "## 3. Simulate ARL0 and ARL1(0.5, 1, 2, 3 sigma shifts) for CUSUM chart for mean shifts. Make sure you choose a design ((k, h) for CUSUM so that its ARL0=370. Use Siegmund's (1985) equation to validate your results."
   ]
  },
  {
   "cell_type": "markdown",
   "metadata": {},
   "source": [
    "Siegmund's equations are:\n",
    "\n",
    "<img src = Capture3.png width = 500px/>"
   ]
  },
  {
   "cell_type": "code",
   "execution_count": 12,
   "metadata": {},
   "outputs": [
    {
     "name": "stdout",
     "output_type": "stream",
     "text": [
      "With (k,h) =  (0.5, 4.26609) \n",
      "ARL =  370.00940887153797\n"
     ]
    }
   ],
   "source": [
    "from math import exp\n",
    "\n",
    "h = 4.26609\n",
    "k = .5\n",
    "b = h + 1.666\n",
    "delta = 0\n",
    "Deltap = delta - k\n",
    "Deltan = -delta - k\n",
    "\n",
    "ARLp = (exp(-2*Deltap*b)+2*Deltap*b-1)/(2*Deltap**2)\n",
    "ARLn = (exp(-2*Deltan*b)+2*Deltan*b-1)/(2*Deltan**2)\n",
    "ARL = (1/ARLp + 1/ARLn)**-1\n",
    "print(\"With (k,h) = \",(k,h), '\\nARL = ', ARL)"
   ]
  },
  {
   "cell_type": "code",
   "execution_count": 13,
   "metadata": {},
   "outputs": [
    {
     "data": {
      "text/html": [
       "<div>\n",
       "<style scoped>\n",
       "    .dataframe tbody tr th:only-of-type {\n",
       "        vertical-align: middle;\n",
       "    }\n",
       "\n",
       "    .dataframe tbody tr th {\n",
       "        vertical-align: top;\n",
       "    }\n",
       "\n",
       "    .dataframe thead th {\n",
       "        text-align: right;\n",
       "    }\n",
       "</style>\n",
       "<table border=\"1\" class=\"dataframe\">\n",
       "  <thead>\n",
       "    <tr style=\"text-align: right;\">\n",
       "      <th></th>\n",
       "      <th>Mean Shift</th>\n",
       "      <th>ARL</th>\n",
       "    </tr>\n",
       "  </thead>\n",
       "  <tbody>\n",
       "    <tr>\n",
       "      <th>0</th>\n",
       "      <td>0.0</td>\n",
       "      <td>209.904</td>\n",
       "    </tr>\n",
       "    <tr>\n",
       "      <th>1</th>\n",
       "      <td>0.5</td>\n",
       "      <td>28.852</td>\n",
       "    </tr>\n",
       "    <tr>\n",
       "      <th>2</th>\n",
       "      <td>1.0</td>\n",
       "      <td>9.083</td>\n",
       "    </tr>\n",
       "    <tr>\n",
       "      <th>3</th>\n",
       "      <td>2.0</td>\n",
       "      <td>3.539</td>\n",
       "    </tr>\n",
       "    <tr>\n",
       "      <th>4</th>\n",
       "      <td>3.0</td>\n",
       "      <td>2.304</td>\n",
       "    </tr>\n",
       "  </tbody>\n",
       "</table>\n",
       "</div>"
      ],
      "text/plain": [
       "   Mean Shift      ARL\n",
       "0         0.0  209.904\n",
       "1         0.5   28.852\n",
       "2         1.0    9.083\n",
       "3         2.0    3.539\n",
       "4         3.0    2.304"
      ]
     },
     "execution_count": 13,
     "metadata": {},
     "output_type": "execute_result"
    }
   ],
   "source": [
    "meanshifts = [0,.5,1,2,3]\n",
    "runlengthsCUSUM = {}\n",
    "\n",
    "for mshift in meanshifts:\n",
    "    runlengthsCUSUM[mshift] = CUSUMARLSim(reps = 1000, mean0 = 10, std = 1, mean1 = 10+mshift, k = k, h = h)\n",
    "    runlengthsCUSUM[mshift] = np.array(runlengthsCUSUM[mshift]).mean()\n",
    "runlengthsCUSUM = pd.DataFrame(runlengthsCUSUM.values(), runlengthsCUSUM.keys())\n",
    "runlengthsCUSUM = runlengthsCUSUM.reset_index().rename(columns = {'index': 'Mean Shift', 0: 'ARL'})\n",
    "runlengthsCUSUM"
   ]
  },
  {
   "cell_type": "markdown",
   "metadata": {},
   "source": [
    "Not sure why the mean shift 0 is so low. Double-checked my code and everything seems to be running right. Additionally, I tested other values for the delta (delta = .5, 1, 2, etc.) in Siegmund's equations and those values were pretty close."
   ]
  },
  {
   "cell_type": "markdown",
   "metadata": {},
   "source": [
    "## 4. Implement Hawkins' (1981) CUSUM chart for variance change monitoring (n=1) <s>and run it simultaneously with the control chart you chose in Q3</s>. Generate ARL0 and ARL1(0.5, 1, 2, 3 sigma shifts)"
   ]
  },
  {
   "cell_type": "markdown",
   "metadata": {},
   "source": [
    "The variance monitoring equation is:\n",
    "\n",
    "<img src = Capture4.png/>\n",
    "\n",
    "The writing is a little hard to read, but I believe it's supposed to update as:\n",
    "\n",
    "$C^{+}_{i} = max[0,v_{i}-k+C^{+}_{i-1}]$\n",
    "\n",
    "and that it is determined to be out of control when $C^{+}_{i}>h*\\sigma$"
   ]
  },
  {
   "cell_type": "code",
   "execution_count": 14,
   "metadata": {},
   "outputs": [],
   "source": [
    "from math import sqrt\n",
    "def CUSUM_var_ARLSim(reps = 1000, mean0 = 10, std = 1, mean1 = 10, k = .5, h = 5):\n",
    "    runlengths = []\n",
    "    for i in list(range(reps)):\n",
    "        length = 0\n",
    "        stop = False\n",
    "        y = 0\n",
    "        Cv = 0\n",
    "        while not stop:\n",
    "            value = np.random.RandomState(1000*i+length).normal(mean1, std)\n",
    "            y = (value-mean0)/std\n",
    "            v = (sqrt(abs(y))-.822)/.349\n",
    "            Cv = max(0, v-k+Cv)\n",
    "            if Cv >= h*std:\n",
    "                length += 1\n",
    "                runlengths.append(length)\n",
    "                stop = True\n",
    "            else:\n",
    "                length += 1\n",
    "    return np.array(runlengths)"
   ]
  },
  {
   "cell_type": "code",
   "execution_count": 15,
   "metadata": {},
   "outputs": [
    {
     "data": {
      "text/html": [
       "<div>\n",
       "<style scoped>\n",
       "    .dataframe tbody tr th:only-of-type {\n",
       "        vertical-align: middle;\n",
       "    }\n",
       "\n",
       "    .dataframe tbody tr th {\n",
       "        vertical-align: top;\n",
       "    }\n",
       "\n",
       "    .dataframe thead th {\n",
       "        text-align: right;\n",
       "    }\n",
       "</style>\n",
       "<table border=\"1\" class=\"dataframe\">\n",
       "  <thead>\n",
       "    <tr style=\"text-align: right;\">\n",
       "      <th></th>\n",
       "      <th>Mean Shift</th>\n",
       "      <th>ARL</th>\n",
       "    </tr>\n",
       "  </thead>\n",
       "  <tbody>\n",
       "    <tr>\n",
       "      <th>0</th>\n",
       "      <td>0.0</td>\n",
       "      <td>446.309</td>\n",
       "    </tr>\n",
       "    <tr>\n",
       "      <th>1</th>\n",
       "      <td>0.5</td>\n",
       "      <td>126.165</td>\n",
       "    </tr>\n",
       "    <tr>\n",
       "      <th>2</th>\n",
       "      <td>1.0</td>\n",
       "      <td>22.533</td>\n",
       "    </tr>\n",
       "    <tr>\n",
       "      <th>3</th>\n",
       "      <td>2.0</td>\n",
       "      <td>4.667</td>\n",
       "    </tr>\n",
       "    <tr>\n",
       "      <th>4</th>\n",
       "      <td>3.0</td>\n",
       "      <td>2.676</td>\n",
       "    </tr>\n",
       "  </tbody>\n",
       "</table>\n",
       "</div>"
      ],
      "text/plain": [
       "   Mean Shift      ARL\n",
       "0         0.0  446.309\n",
       "1         0.5  126.165\n",
       "2         1.0   22.533\n",
       "3         2.0    4.667\n",
       "4         3.0    2.676"
      ]
     },
     "execution_count": 15,
     "metadata": {},
     "output_type": "execute_result"
    }
   ],
   "source": [
    "meanshifts = [0,.5,1,2,3]\n",
    "runlengthsCUSUMv = {}\n",
    "\n",
    "for mshift in meanshifts:\n",
    "    runlengthsCUSUMv[mshift] = CUSUM_var_ARLSim(reps = 1000, mean0 = 10, std = 1, mean1 = 10+mshift, k = k, h = h)\n",
    "    runlengthsCUSUMv[mshift] = np.array(runlengthsCUSUMv[mshift]).mean()\n",
    "runlengthsCUSUMv = pd.DataFrame(runlengthsCUSUMv.values(), runlengthsCUSUMv.keys())\n",
    "runlengthsCUSUMv = runlengthsCUSUMv.reset_index().rename(columns = {'index': 'Mean Shift', 0: 'ARL'})\n",
    "runlengthsCUSUMv"
   ]
  },
  {
   "cell_type": "markdown",
   "metadata": {},
   "source": [
    "## 5. Combine the results from Q3 (CUSUM-M) and Q4 (CUSUM-V) to compute the ARL0 and ARL1(0.5, 1, 2, 3 sigma shifts) (i.e. 1/ARL=1/ARL-M+1/ARL-V) to compute the approximate ARL values when both CUSUM for mean and CUSUM for variance are running simultaneously.  For those who use Python for simulation, run both CUSUM-M and CUSUM-V simultaneously and tabulate the ARL values. Do these values match with those generated from the 1/ARL equation?"
   ]
  },
  {
   "cell_type": "code",
   "execution_count": 16,
   "metadata": {},
   "outputs": [],
   "source": [
    "def CUSUM_var_mean_ARLSim(reps = 1000, mean0 = 10, std = 1, mean1 = 10, k = .5, h = 5):\n",
    "    runlengths = []\n",
    "    for i in list(range(reps)):\n",
    "        length = 0\n",
    "        stop = False\n",
    "        lastCplus = 0\n",
    "        lastCneg = 0\n",
    "        y = 0\n",
    "        Cv = 0\n",
    "        while not stop:\n",
    "            value = np.random.RandomState(1000*i+length).normal(mean1, std)\n",
    "            lastCplus = Cplus(value, lastCplus, mean0, std, k)\n",
    "            lastCneg = Cneg(value, lastCneg, mean0, std, k)\n",
    "            y = (value-mean0)/std\n",
    "            v = (sqrt(abs(y))-.822)/.349\n",
    "            Cv = max(0, v-k+Cv)\n",
    "            if lastCplus >= h*std or abs(lastCneg) >= h*std or Cv >= h*std:\n",
    "                length += 1\n",
    "                runlengths.append(length)\n",
    "                stop = True\n",
    "            else:\n",
    "                length += 1\n",
    "    return np.array(runlengths)"
   ]
  },
  {
   "cell_type": "code",
   "execution_count": 17,
   "metadata": {},
   "outputs": [
    {
     "data": {
      "text/html": [
       "<div>\n",
       "<style scoped>\n",
       "    .dataframe tbody tr th:only-of-type {\n",
       "        vertical-align: middle;\n",
       "    }\n",
       "\n",
       "    .dataframe tbody tr th {\n",
       "        vertical-align: top;\n",
       "    }\n",
       "\n",
       "    .dataframe thead th {\n",
       "        text-align: right;\n",
       "    }\n",
       "</style>\n",
       "<table border=\"1\" class=\"dataframe\">\n",
       "  <thead>\n",
       "    <tr style=\"text-align: right;\">\n",
       "      <th></th>\n",
       "      <th>Mean Shift</th>\n",
       "      <th>ARL</th>\n",
       "    </tr>\n",
       "  </thead>\n",
       "  <tbody>\n",
       "    <tr>\n",
       "      <th>0</th>\n",
       "      <td>0.0</td>\n",
       "      <td>166.031</td>\n",
       "    </tr>\n",
       "    <tr>\n",
       "      <th>1</th>\n",
       "      <td>0.5</td>\n",
       "      <td>28.082</td>\n",
       "    </tr>\n",
       "    <tr>\n",
       "      <th>2</th>\n",
       "      <td>1.0</td>\n",
       "      <td>9.058</td>\n",
       "    </tr>\n",
       "    <tr>\n",
       "      <th>3</th>\n",
       "      <td>2.0</td>\n",
       "      <td>3.536</td>\n",
       "    </tr>\n",
       "    <tr>\n",
       "      <th>4</th>\n",
       "      <td>3.0</td>\n",
       "      <td>2.304</td>\n",
       "    </tr>\n",
       "  </tbody>\n",
       "</table>\n",
       "</div>"
      ],
      "text/plain": [
       "   Mean Shift      ARL\n",
       "0         0.0  166.031\n",
       "1         0.5   28.082\n",
       "2         1.0    9.058\n",
       "3         2.0    3.536\n",
       "4         3.0    2.304"
      ]
     },
     "execution_count": 17,
     "metadata": {},
     "output_type": "execute_result"
    }
   ],
   "source": [
    "meanshifts = [0,.5,1,2,3]\n",
    "runlengthsCUSUMmv = {}\n",
    "\n",
    "for mshift in meanshifts:\n",
    "    runlengthsCUSUMmv[mshift] = CUSUM_var_mean_ARLSim(reps = 1000, mean0 = 10, std = 1, mean1 = 10+mshift, k = k, h = h)\n",
    "    runlengthsCUSUMmv[mshift] = np.array(runlengthsCUSUMmv[mshift]).mean()\n",
    "runlengthsCUSUMmv = pd.DataFrame(runlengthsCUSUMmv.values(), runlengthsCUSUMmv.keys())\n",
    "runlengthsCUSUMmv = runlengthsCUSUMmv.reset_index().rename(columns = {'index': 'Mean Shift', 0: 'ARL'})\n",
    "runlengthsCUSUMmv"
   ]
  },
  {
   "cell_type": "markdown",
   "metadata": {},
   "source": [
    "I didn't see an equation for finding the ARL for of the CUSUM variance control chart, so I'll use the ARL computed in the table above instead along with the mean ARL from Siegmund's equations."
   ]
  },
  {
   "cell_type": "code",
   "execution_count": 18,
   "metadata": {},
   "outputs": [
    {
     "name": "stdout",
     "output_type": "stream",
     "text": [
      "202.29389851147053\n"
     ]
    }
   ],
   "source": [
    "ARL = (1/446.309+1/370)**-1\n",
    "print(ARL)"
   ]
  },
  {
   "cell_type": "markdown",
   "metadata": {},
   "source": [
    "If I'm able to use the same equations, then I assume that it would be:"
   ]
  },
  {
   "cell_type": "code",
   "execution_count": 19,
   "metadata": {},
   "outputs": [
    {
     "name": "stdout",
     "output_type": "stream",
     "text": [
      "With (k,h) =  (0.5, 4.26609) \n",
      "ARL =  246.672939247692\n"
     ]
    }
   ],
   "source": [
    "h = 4.26609\n",
    "k = .5\n",
    "b = h + 1.666\n",
    "delta = 0\n",
    "Deltap = delta - k\n",
    "Deltan = -delta - k\n",
    "Deltav = delta-k\n",
    "\n",
    "ARLp = (exp(-2*Deltap*b)+2*Deltap*b-1)/(2*Deltap**2)\n",
    "ARLn = (exp(-2*Deltan*b)+2*Deltan*b-1)/(2*Deltan**2)\n",
    "ARLv = (exp(-2*Deltav*b)+2*Deltav*b-1)/(2*Deltav**2)\n",
    "ARL = (1/ARLp + 1/ARLn + 1/ARLv)**-1\n",
    "print(\"With (k,h) = \",(k,h), '\\nARL = ', ARL)"
   ]
  },
  {
   "cell_type": "markdown",
   "metadata": {},
   "source": [
    "## Tabulate all ARL0 and ARL1 values in rows and different methods in columns.   Compare the results from Q2 (IX and MR) and Q5 (CUSUM-M and CUSUM-V). Which pair of charts would you recommend? Why?"
   ]
  },
  {
   "cell_type": "code",
   "execution_count": 20,
   "metadata": {},
   "outputs": [],
   "source": [
    "comb = pd.DataFrame([0,.5,1,2,3], columns = ['Mean Shift'])\n",
    "comb['IX MR'] = runlengthsIXMR['ARL']\n",
    "comb['CUSUM Mean'] = runlengthsCUSUM['ARL']\n",
    "comb['CUSUM Var'] = runlengthsCUSUMv['ARL']\n",
    "comb['CUSUM Combined'] = runlengthsCUSUMmv['ARL']"
   ]
  },
  {
   "cell_type": "code",
   "execution_count": 21,
   "metadata": {},
   "outputs": [
    {
     "data": {
      "text/html": [
       "<div>\n",
       "<style scoped>\n",
       "    .dataframe tbody tr th:only-of-type {\n",
       "        vertical-align: middle;\n",
       "    }\n",
       "\n",
       "    .dataframe tbody tr th {\n",
       "        vertical-align: top;\n",
       "    }\n",
       "\n",
       "    .dataframe thead th {\n",
       "        text-align: right;\n",
       "    }\n",
       "</style>\n",
       "<table border=\"1\" class=\"dataframe\">\n",
       "  <thead>\n",
       "    <tr style=\"text-align: right;\">\n",
       "      <th></th>\n",
       "      <th>Mean Shift</th>\n",
       "      <th>IX MR</th>\n",
       "      <th>CUSUM Mean</th>\n",
       "      <th>CUSUM Var</th>\n",
       "      <th>CUSUM Combined</th>\n",
       "    </tr>\n",
       "  </thead>\n",
       "  <tbody>\n",
       "    <tr>\n",
       "      <th>0</th>\n",
       "      <td>0.0</td>\n",
       "      <td>305.381084</td>\n",
       "      <td>209.904</td>\n",
       "      <td>446.309</td>\n",
       "      <td>166.031</td>\n",
       "    </tr>\n",
       "    <tr>\n",
       "      <th>1</th>\n",
       "      <td>0.5</td>\n",
       "      <td>141.299242</td>\n",
       "      <td>28.852</td>\n",
       "      <td>126.165</td>\n",
       "      <td>28.082</td>\n",
       "    </tr>\n",
       "    <tr>\n",
       "      <th>2</th>\n",
       "      <td>1.0</td>\n",
       "      <td>45.278101</td>\n",
       "      <td>9.083</td>\n",
       "      <td>22.533</td>\n",
       "      <td>9.058</td>\n",
       "    </tr>\n",
       "    <tr>\n",
       "      <th>3</th>\n",
       "      <td>2.0</td>\n",
       "      <td>6.239882</td>\n",
       "      <td>3.539</td>\n",
       "      <td>4.667</td>\n",
       "      <td>3.536</td>\n",
       "    </tr>\n",
       "    <tr>\n",
       "      <th>4</th>\n",
       "      <td>3.0</td>\n",
       "      <td>1.994324</td>\n",
       "      <td>2.304</td>\n",
       "      <td>2.676</td>\n",
       "      <td>2.304</td>\n",
       "    </tr>\n",
       "  </tbody>\n",
       "</table>\n",
       "</div>"
      ],
      "text/plain": [
       "   Mean Shift       IX MR  CUSUM Mean  CUSUM Var  CUSUM Combined\n",
       "0         0.0  305.381084     209.904    446.309         166.031\n",
       "1         0.5  141.299242      28.852    126.165          28.082\n",
       "2         1.0   45.278101       9.083     22.533           9.058\n",
       "3         2.0    6.239882       3.539      4.667           3.536\n",
       "4         3.0    1.994324       2.304      2.676           2.304"
      ]
     },
     "execution_count": 21,
     "metadata": {},
     "output_type": "execute_result"
    }
   ],
   "source": [
    "comb"
   ]
  },
  {
   "cell_type": "markdown",
   "metadata": {},
   "source": [
    "I don't really see an obvious choice between IX MR and the combined CUSUM charts. That choice would probably just be an application preference. If you want to react to mean shift faster, then you should choose the combined CUSUM chart. If you want to have fewer false alarms, then you should choose the IX MR chart. Overall, I'd probably choose the combined CUSUM chart as waiting 141 samples to detect a mean shift of 0.5 seems a little long to me,"
   ]
  },
  {
   "cell_type": "code",
   "execution_count": null,
   "metadata": {},
   "outputs": [],
   "source": []
  }
 ],
 "metadata": {
  "kernelspec": {
   "display_name": "Python 3",
   "language": "python",
   "name": "python3"
  },
  "language_info": {
   "codemirror_mode": {
    "name": "ipython",
    "version": 3
   },
   "file_extension": ".py",
   "mimetype": "text/x-python",
   "name": "python",
   "nbconvert_exporter": "python",
   "pygments_lexer": "ipython3",
   "version": "3.7.3"
  }
 },
 "nbformat": 4,
 "nbformat_minor": 2
}
